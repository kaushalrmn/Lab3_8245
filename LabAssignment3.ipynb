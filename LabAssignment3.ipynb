{
 "cells": [
  {
   "cell_type": "code",
   "execution_count": 1,
   "metadata": {},
   "outputs": [],
   "source": [
    "import numpy as np"
   ]
  },
  {
   "cell_type": "code",
   "execution_count": 2,
   "metadata": {},
   "outputs": [
    {
     "name": "stdout",
     "output_type": "stream",
     "text": [
      "False\n"
     ]
    }
   ],
   "source": [
    "def no_zeros(arrayInput):\n",
    "    ## TODO: This function should return True if \n",
    "    ## numpy array arrayInput does not contain any zero\n",
    "    ## and will return False otherwise.\n",
    "    ## Implement this function using ONLY numpy methods\n",
    "    ## Sample input: [1,2,3,4,5,6,0] Sample Output: False\n",
    "    return False\n",
    "\n",
    "\n",
    "    # Check if any element in the array is equal to zero\n",
    "    return not np.any(arrayInput == 0)\n",
    "\n",
    "# Example\n",
    "sample_input = np.array([9, 8, 7, 6, 5, 4, 0])\n",
    "result = no_zeros(sample_input)\n",
    "print(result)"
   ]
  },
  {
   "cell_type": "code",
   "execution_count": 3,
   "metadata": {},
   "outputs": [
    {
     "name": "stdout",
     "output_type": "stream",
     "text": [
      "[  0 100 200 300 400 500]\n"
     ]
    }
   ],
   "source": [
    "def linearly_distributed(n, min, max):\n",
    "    ## TODO: This function should return a numpy array of \n",
    "    ## length n with equally spaced elements from \n",
    "    ## min (inclusive) to max (exclusive)\n",
    "    ## Implement this function using ONLY numpy methods\n",
    "    ## Sample input: (4,0,100) sample output [0,33,66, 99]\n",
    "    return np.array({})\n",
    "\n",
    "\n",
    "import numpy as np\n",
    "\n",
    "def linearly_distributed(n, min_val, max_val):\n",
    "    # Use numpy's linspace to generate equally spaced values\n",
    "    return np.linspace(min_val, max_val, n, endpoint=False, dtype=int)\n",
    "\n",
    "# Example\n",
    "result = linearly_distributed(6, 0, 600)\n",
    "print(result)\n"
   ]
  },
  {
   "cell_type": "code",
   "execution_count": 4,
   "metadata": {},
   "outputs": [
    {
     "name": "stdout",
     "output_type": "stream",
     "text": [
      "[[1 1 1]\n",
      " [1 0 1]\n",
      " [1 1 1]]\n"
     ]
    }
   ],
   "source": [
    "def two_dimensions(n):\n",
    "    ## TODO: This function should create a 2d Array of shape n*n\n",
    "    ## Where the borders of the array are ones\n",
    "    ## all other elements are zero\n",
    "    ## Implement this function using ONLY numpy methods\n",
    "    ## Sample input 3\n",
    "    ## sample output [[1,1,1],[1,0,1],[1,1,1]]\n",
    "    return np.array({})\n",
    "\n",
    "\n",
    "def two_dimensions(n):\n",
    "    #  a 2D array with ones on the borders and zeros in the interior\n",
    "    arr = np.zeros((n, n), dtype=int)\n",
    "    arr[0, :] = 1  # set first row to ones\n",
    "    arr[-1, :] = 1  # set last row to ones\n",
    "    arr[:, 0] = 1  #  set first col to ones\n",
    "    arr[:, -1] = 1  # set last col to ones\n",
    "\n",
    "    return arr\n",
    "result = two_dimensions(3)\n",
    "print(result)\n",
    "\n",
    "    "
   ]
  },
  {
   "cell_type": "code",
   "execution_count": 5,
   "metadata": {},
   "outputs": [
    {
     "name": "stdout",
     "output_type": "stream",
     "text": [
      "[2 3 1 0 1]\n"
     ]
    }
   ],
   "source": [
    "def create_array(n,min,max):\n",
    "    ## TODO: This function should return a numpy array of \n",
    "    ## length n with random elements from \n",
    "    ## min (inclusive) to max (exclusive)\n",
    "    ## Implement this function using ONLY numpy methods \n",
    "    ## USE np.random.rand for generating the numbers \n",
    "    ## Sample Input (10,0,10) sample output(0,2,2,3,1,5,9,7,8,3)\n",
    "    return np.array({})\n",
    "\n",
    "\n",
    "def create_array(n, min_val, max_val):\n",
    "    # generate random values between 0 and 1 by using np.random.rand\n",
    "    random_values = np.random.rand(n)\n",
    "\n",
    "    # Scale and shift the values to the desired range [min, max)\n",
    "    result = (max_val - min_val) * random_values + min_val\n",
    "\n",
    "    # Round  values to integers\n",
    "    result = result.astype(int)\n",
    "\n",
    "\n",
    "    return result\n",
    "\n",
    "result = create_array(5, 0, 5)\n",
    "print(result)"
   ]
  },
  {
   "cell_type": "code",
   "execution_count": 6,
   "metadata": {},
   "outputs": [
    {
     "name": "stdout",
     "output_type": "stream",
     "text": [
      "[[14  4  6 11]\n",
      " [ 1 10  9  5]\n",
      " [ 2  3 16 12]\n",
      " [ 7  0 15  8]]\n"
     ]
    }
   ],
   "source": [
    "def random_generation(n,min,max):\n",
    "    ## TODO: Write a function that takes as an input\n",
    "    ## Dimension of 2d Array n, min and max\n",
    "    ## Generate an n*n array with random numbers between\n",
    "    ## min and max inclusive\n",
    "    ## Such that no element is duplicated\n",
    "    ## return numpy array\n",
    "    ## Implement this function using ONLY numpy methods\n",
    "    ## Sample Input: random_generation(3,0,12) --> [[4,2,6],[1,5,11],[10, 3,9]]\n",
    "    return np.array({})\n",
    "\n",
    "#Solution\n",
    "\n",
    "def random_generation(n, min_val, max_val):\n",
    "    # Calculate total number of elements in the array\n",
    "    total_elements = n * n\n",
    "\n",
    "    # unique random numbers between min and max (inclusive)\n",
    "    unique_numbers = np.random.choice(np.arange(min_val, max_val + 1), total_elements, replace=False)\n",
    "\n",
    "    # Reshape  1D array into a 2D array of size n*n\n",
    "    result = unique_numbers.reshape((n, n))\n",
    "\n",
    "    return result\n",
    "\n",
    "# Example usage:\n",
    "result = random_generation(4,0,16)\n",
    "\n",
    "print(result)"
   ]
  }
 ],
 "metadata": {
  "kernelspec": {
   "display_name": "Python 3",
   "language": "python",
   "name": "python3"
  },
  "language_info": {
   "codemirror_mode": {
    "name": "ipython",
    "version": 3
   },
   "file_extension": ".py",
   "mimetype": "text/x-python",
   "name": "python",
   "nbconvert_exporter": "python",
   "pygments_lexer": "ipython3",
   "version": "3.11.7"
  },
  "orig_nbformat": 4
 },
 "nbformat": 4,
 "nbformat_minor": 2
}
